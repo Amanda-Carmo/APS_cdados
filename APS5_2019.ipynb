{
 "cells": [
  {
   "cell_type": "markdown",
   "metadata": {},
   "source": [
    "# Ciência dos Dados 2019\n",
    "\n",
    "## APS 5\n",
    "\n",
    "Entrega:\n",
    "\n",
    "* Você deve **responder** aos itens no Blackboard para que esta APS conte\n",
    "* Entrega da comprovação 7/11 no início da aula *ou* eletrônico via Blackboard\n",
    "\n",
    "\n",
    "Sempre que usar código Python para fazer cálculos indique na folha de respostas os comandos que usou.\n",
    "\n",
    "Leitura prévia:\n",
    "\n",
    "* Magalhães e Lima. *Noções de Probabilidade e Estatística.* Seções 4.3 e 4.4\n",
    "* Montgomery, D., Runger, G.,  Hubele, N. F *Engineering Statistics. 5th Edition*. Seções 4.3 e 4.4\n",
    "\n",
    "\n",
    "\n",
    "\n",
    "\n",
    "\n",
    "\n",
    "\n",
    "\n",
    "\n"
   ]
  },
  {
   "cell_type": "markdown",
   "metadata": {},
   "source": [
    "### Questão 1\n",
    "\n",
    "Suponha que estejamos testando $H_0 : \\mu  = \\mu_0$ versus $H1: \\mu > \\mu_0$. Calcule o valor $P$ para os seguintes valores observados da estatística de teste. (Montgomery 4-28)\n",
    "\n",
    "**a.** $z_0 = 2.35$\n",
    "\n",
    "**b.** $z_0 = 1.53$\n",
    "\n",
    "**c.** $z_0 = -0.15$\n",
    "\n",
    "Agora suponha que estejamos testando  $H_0 : \\mu  = \\mu_0$ versus $H1: \\mu \\neq \\mu_0$, calcule o valor $P$ para os seguintes valores da estatística de teste. (Montgomery 4-29)\n",
    "\n",
    "**e.** $z_0 = 2.45$\n",
    "\n",
    "**f.** $z_0 = -0.25$"
   ]
  },
  {
   "cell_type": "code",
   "execution_count": 32,
   "metadata": {},
   "outputs": [],
   "source": [
    "import pandas as pd\n",
    "import numpy as np\n",
    "from scipy.stats import norm, probplot\n",
    "from scipy import stats\n",
    "\n",
    "p1 = norm.sf(1.53)\n",
    "\n",
    "p2 = norm.sf(-0.15)"
   ]
  },
  {
   "cell_type": "markdown",
   "metadata": {},
   "source": [
    "#### a)"
   ]
  },
  {
   "cell_type": "code",
   "execution_count": 33,
   "metadata": {},
   "outputs": [
    {
     "data": {
      "text/plain": [
       "0.009386705534838566"
      ]
     },
     "execution_count": 33,
     "metadata": {},
     "output_type": "execute_result"
    }
   ],
   "source": [
    "p = norm.sf(2.35)\n",
    "p"
   ]
  },
  {
   "cell_type": "markdown",
   "metadata": {},
   "source": [
    "#### b)"
   ]
  },
  {
   "cell_type": "code",
   "execution_count": 34,
   "metadata": {},
   "outputs": [
    {
     "data": {
      "text/plain": [
       "0.06300836446397844"
      ]
     },
     "execution_count": 34,
     "metadata": {},
     "output_type": "execute_result"
    }
   ],
   "source": [
    "p1 = norm.sf(1.53)\n",
    "p1"
   ]
  },
  {
   "cell_type": "markdown",
   "metadata": {},
   "source": [
    "#### c)"
   ]
  },
  {
   "cell_type": "code",
   "execution_count": 35,
   "metadata": {},
   "outputs": [
    {
     "data": {
      "text/plain": [
       "0.5596176923702425"
      ]
     },
     "execution_count": 35,
     "metadata": {},
     "output_type": "execute_result"
    }
   ],
   "source": [
    "p2 = norm.sf(-0.15)\n",
    "p2"
   ]
  },
  {
   "cell_type": "markdown",
   "metadata": {},
   "source": [
    "#### d)"
   ]
  },
  {
   "cell_type": "code",
   "execution_count": 57,
   "metadata": {},
   "outputs": [],
   "source": [
    "q = norm.sf(2.45)\n",
    "q1 = norm.cdf(-0.25)"
   ]
  },
  {
   "cell_type": "code",
   "execution_count": 58,
   "metadata": {},
   "outputs": [
    {
     "data": {
      "text/plain": [
       "0.01428562147054283"
      ]
     },
     "execution_count": 58,
     "metadata": {},
     "output_type": "execute_result"
    }
   ],
   "source": [
    "q * 2"
   ]
  },
  {
   "cell_type": "markdown",
   "metadata": {},
   "source": [
    "#### e)"
   ]
  },
  {
   "cell_type": "code",
   "execution_count": 59,
   "metadata": {},
   "outputs": [
    {
     "data": {
      "text/plain": [
       "0.8025873486341526"
      ]
     },
     "execution_count": 59,
     "metadata": {},
     "output_type": "execute_result"
    }
   ],
   "source": [
    "q1 * 2"
   ]
  },
  {
   "cell_type": "markdown",
   "metadata": {},
   "source": [
    "### Questão 2\n",
    "\n",
    "A vida útil medida em horas de um termopar usado num forno é distribuída de forma normal, com desvio padrão de 20 horas.\n",
    "\n",
    "Uma amostra aleatória de 15 termopares resultou nos seguintes dados:  553, 552, 567, 579, 550, 541, 537, 553, 552, 546, 538, 553, 581, 539, 529. (Montgomery 4-42)\n",
    "\n",
    "\n",
    "**a.** Calcule o desvio padrão de $\\overline{X}$\n",
    "\n",
    "**b.** Calcule o $x_{critico}$\n",
    "\n",
    "**c.** Calcule o valor de $\\overline{x}$\n",
    "\n",
    "**d.** Escreva as hipóteses e conclua o teste\n",
    "\n",
    "**e.**  O que significa o valor p?\n",
    "\n",
    "**f.** Qual o valor p?\n"
   ]
  },
  {
   "cell_type": "code",
   "execution_count": 39,
   "metadata": {},
   "outputs": [],
   "source": [
    "# Dados\n",
    "\n",
    "n = 15\n",
    "sig1 = 20\n",
    "alpha = 0.05\n",
    "mi = 540"
   ]
  },
  {
   "cell_type": "markdown",
   "metadata": {},
   "source": [
    "#### a)"
   ]
  },
  {
   "cell_type": "code",
   "execution_count": 40,
   "metadata": {},
   "outputs": [],
   "source": [
    "sig = sig1/n**0.5"
   ]
  },
  {
   "cell_type": "code",
   "execution_count": 41,
   "metadata": {},
   "outputs": [
    {
     "data": {
      "text/plain": [
       "5.163977794943222"
      ]
     },
     "execution_count": 41,
     "metadata": {},
     "output_type": "execute_result"
    }
   ],
   "source": [
    "sig"
   ]
  },
  {
   "cell_type": "markdown",
   "metadata": {},
   "source": [
    "#### b)"
   ]
  },
  {
   "cell_type": "code",
   "execution_count": 42,
   "metadata": {},
   "outputs": [],
   "source": [
    "xc = norm.ppf((1 - alpha), loc = mi, scale = sig)"
   ]
  },
  {
   "cell_type": "code",
   "execution_count": 43,
   "metadata": {},
   "outputs": [
    {
     "data": {
      "text/plain": [
       "548.4939876055092"
      ]
     },
     "execution_count": 43,
     "metadata": {},
     "output_type": "execute_result"
    }
   ],
   "source": [
    "xc"
   ]
  },
  {
   "cell_type": "markdown",
   "metadata": {},
   "source": [
    "#### c)"
   ]
  },
  {
   "cell_type": "code",
   "execution_count": 44,
   "metadata": {},
   "outputs": [],
   "source": [
    "lista_amostras = [553, 552, 567, 579, 550, 541, 537, 553, 552, 546, 538, 553, 581, 539, 529]\n",
    "x_barra = np.mean(lista_amostras)"
   ]
  },
  {
   "cell_type": "code",
   "execution_count": 45,
   "metadata": {},
   "outputs": [
    {
     "data": {
      "text/plain": [
       "551.3333333333334"
      ]
     },
     "execution_count": 45,
     "metadata": {},
     "output_type": "execute_result"
    }
   ],
   "source": [
    "x_barra"
   ]
  },
  {
   "cell_type": "markdown",
   "metadata": {},
   "source": [
    "#### f)"
   ]
  },
  {
   "cell_type": "code",
   "execution_count": 46,
   "metadata": {},
   "outputs": [
    {
     "data": {
      "text/plain": [
       "0.014092901073953413"
      ]
     },
     "execution_count": 46,
     "metadata": {},
     "output_type": "execute_result"
    }
   ],
   "source": [
    "p = norm.sf(551.3333333333334, loc = mi, scale = sig)\n",
    "p"
   ]
  },
  {
   "cell_type": "markdown",
   "metadata": {},
   "source": [
    "### Questão 3\n",
    "\n",
    "Você foi contratado para avaliar um novo modelo de taco de golfe.  O fabricante quer saber se há evidência de que o coeficiente de restituição médio dos tacos excede 0.82 com nível de significância $\\alpha=0.05$. \n",
    "\n",
    "\n",
    "Em um lançador padronizado de bolas de golfe, foram testados 15 tacos e os coeficientes de restituição medidos foram:\n",
    "\n",
    "0.8411,  0.8191,  0.8182, 0.8125, 0.8580, 0.8532, 0.8483, 0.8276, 0.8042, 0.8730, 0.8282, 0.8359, 0.8750, 0.7983, 0.8660\n",
    "\n",
    "\n",
    "Sabe-se por experiência anterior que o coeficiente de restituição tem distribuição normal, mas você não sabe o $\\sigma$.\n",
    "\n",
    "\n",
    "Pede-se:\n",
    "\n",
    "**a)** Calcule  *s* (lembre-se dos graus de liberdade)\n",
    "\n",
    "**b)** Calcule o valor de $\\overline{x}$\n",
    "\n",
    "**c)** Formule as hipóteses nula e alternativa. Responda se o teste de hipótese vai ter região de rejeição bicaudal ou unicaudal.\n",
    "\n",
    "\n",
    "**d)** Calcule o valor da estatística de teste $t_{obs}$\n",
    "\n",
    "\n",
    "\n",
    "\n",
    "**e)** Calcule o valor de $t_{critico}$\n",
    "\n",
    "**f)** Conclua o teste de hipóteses\n",
    "\n",
    "**g)** Calcule o valor p usando a padronização embutida do Python\n",
    "\n",
    "Dica: para achar a área à esquerda do valor $\\overline{x}$ na *t* que assume $\\mu_0$ faça:\n",
    "\n",
    "stats.t.cdf( $\\overline{x}$ , loc= $\\mu_0$ , scale= $\\frac{s}{\\sqrt{n}}$ , df= $n-1$ )\n"
   ]
  },
  {
   "cell_type": "markdown",
   "metadata": {},
   "source": []
  },
  {
   "cell_type": "markdown",
   "metadata": {},
   "source": [
    "#### a)"
   ]
  },
  {
   "cell_type": "code",
   "execution_count": 47,
   "metadata": {},
   "outputs": [],
   "source": [
    "amostra = [0.8411, 0.8191, 0.8182, 0.8125, 0.8580, 0.8532, 0.8483, 0.8276, 0.8042, 0.8730, 0.8282, 0.8359, 0.8750, 0.7983, 0.8660]\n",
    "n = 15\n",
    "μ0 = 0.82\n",
    "x_obs = np.mean(amostra)\n",
    "alpha = 0.05\n",
    "\n",
    "S = np.std(amostra,ddof = 1)"
   ]
  },
  {
   "cell_type": "code",
   "execution_count": 48,
   "metadata": {},
   "outputs": [
    {
     "data": {
      "text/plain": [
       "0.024557099642611345"
      ]
     },
     "execution_count": 48,
     "metadata": {},
     "output_type": "execute_result"
    }
   ],
   "source": [
    "S"
   ]
  },
  {
   "cell_type": "markdown",
   "metadata": {},
   "source": [
    "#### b)"
   ]
  },
  {
   "cell_type": "code",
   "execution_count": 49,
   "metadata": {},
   "outputs": [],
   "source": [
    "x_barra = np.mean(amostra)"
   ]
  },
  {
   "cell_type": "code",
   "execution_count": 50,
   "metadata": {},
   "outputs": [
    {
     "data": {
      "text/plain": [
       "0.83724"
      ]
     },
     "execution_count": 50,
     "metadata": {},
     "output_type": "execute_result"
    }
   ],
   "source": [
    "x_barra"
   ]
  },
  {
   "cell_type": "markdown",
   "metadata": {},
   "source": [
    "#### d)"
   ]
  },
  {
   "cell_type": "code",
   "execution_count": 51,
   "metadata": {},
   "outputs": [],
   "source": [
    "t_obs=(x_obs-μ0)/(S/np.sqrt(n))"
   ]
  },
  {
   "cell_type": "code",
   "execution_count": 52,
   "metadata": {},
   "outputs": [
    {
     "data": {
      "text/plain": [
       "2.718978782525142"
      ]
     },
     "execution_count": 52,
     "metadata": {},
     "output_type": "execute_result"
    }
   ],
   "source": [
    "t_obs"
   ]
  },
  {
   "cell_type": "markdown",
   "metadata": {},
   "source": [
    "#### e)"
   ]
  },
  {
   "cell_type": "code",
   "execution_count": 53,
   "metadata": {},
   "outputs": [],
   "source": [
    "tc = stats.t.ppf(1 - alpha, df = n - 1)"
   ]
  },
  {
   "cell_type": "code",
   "execution_count": 60,
   "metadata": {},
   "outputs": [
    {
     "data": {
      "text/plain": [
       "1.7613101357748562"
      ]
     },
     "execution_count": 60,
     "metadata": {},
     "output_type": "execute_result"
    }
   ],
   "source": [
    "tc"
   ]
  },
  {
   "cell_type": "code",
   "execution_count": 61,
   "metadata": {},
   "outputs": [],
   "source": [
    "a = stats.t.cdf(x_barra , loc= μ0 , scale= S/n**0.5, df= n-1 )"
   ]
  },
  {
   "cell_type": "code",
   "execution_count": 63,
   "metadata": {},
   "outputs": [
    {
     "data": {
      "text/plain": [
       "0.008313368681510891"
      ]
     },
     "execution_count": 63,
     "metadata": {},
     "output_type": "execute_result"
    }
   ],
   "source": [
    "1-a"
   ]
  }
 ],
 "metadata": {
  "kernelspec": {
   "display_name": "Python 3",
   "language": "python",
   "name": "python3"
  },
  "language_info": {
   "codemirror_mode": {
    "name": "ipython",
    "version": 3
   },
   "file_extension": ".py",
   "mimetype": "text/x-python",
   "name": "python",
   "nbconvert_exporter": "python",
   "pygments_lexer": "ipython3",
   "version": "3.7.1"
  }
 },
 "nbformat": 4,
 "nbformat_minor": 2
}
